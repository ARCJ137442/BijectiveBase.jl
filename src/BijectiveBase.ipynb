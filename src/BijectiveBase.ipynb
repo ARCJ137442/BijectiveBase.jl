{
 "cells": [
  {
   "cell_type": "markdown",
   "metadata": {},
   "source": [
    "# BijectiveBase.jl - 对「双射基数n进制」的解析转换支持"
   ]
  },
  {
   "cell_type": "markdown",
   "metadata": {},
   "source": [
    "## 概述"
   ]
  },
  {
   "cell_type": "markdown",
   "metadata": {},
   "source": [
    "🎯核心功能：对「双射N进制数值」进行解析、生成\n",
    "\n",
    "- 与日常所谓「n进制」的区别：**没有表特殊地位的「0」位值**\n",
    "    - 这意味着「A」与「AA」在任何n下语义都不相同\n",
    "- 有「数组」「字符串」两种形式可选"
   ]
  },
  {
   "cell_type": "markdown",
   "metadata": {},
   "source": [
    "## 对照表"
   ]
  },
  {
   "cell_type": "markdown",
   "metadata": {},
   "source": [
    "部分二进制数的对应关系表如下：\n",
    "\n",
    "| 原 | BIN | Bijective BIN | 权值显示 |\n",
    "| ---: | ---: | ---: | ---: |\n",
    "| 0 | 0 |  |  |\n",
    "| 1 | 1 | 0 | 1 |\n",
    "| 2 | 10 | 1 | 2 |\n",
    "| 3 | 11 | 00 | 21 |\n",
    "| 4 | 100 | 01 | 22 |\n",
    "| 5 | 101 | 10 | 41 |\n",
    "| 6 | 110 | 11 | 42 |\n",
    "| 7 | 111 | 000 | 421 |\n",
    "| 8 | 1000 | 001 | 422 |\n",
    "| 9 | 1001 | 010 | 441 |\n",
    "| 10 | 1010 | 011 | 442 |\n",
    "| 11 | 1011 | 100 | 821 |\n",
    "| 12 | 1100 | 101 | 822 |\n",
    "| 13 | 1101 | 110 | 841 |\n",
    "| 14 | 1110 | 111 | 842 |\n",
    "| 15 | 1111 | 0000 | 8421 |\n",
    "| $\\vdots$ | $\\vdots$ | $\\vdots$ | $\\vdots$ |\n",
    "\n",
    "^其中**空白单元格**表示「空字符串」"
   ]
  },
  {
   "cell_type": "markdown",
   "metadata": {},
   "source": [
    "## 使用"
   ]
  },
  {
   "cell_type": "markdown",
   "metadata": {},
   "source": [
    "该Julia包导出了三个函数，分别为\n",
    "\n",
    "- `length_bijective`：计算数值在「双射进位制」下的位数\n",
    "    - `length_bijective(x::Integer, N::Integer) -> Integer`：计算数值$x$在「双射$N$进位制」下的位数\n",
    "    - `length_bijective(x::Integer, chars::AbstractString) -> Integer`：计算数值$x$在以`chars`为$N$进制字符集的「双射$N$进位制」下的位数\n",
    "- `num_to_bijective`：将数值转换为双射进位制的符号串\n",
    "    - `num_to_bijective(x::Integer, N::Integer, f::Function) -> Vector`：将数值$x$通过「符号→位值」的映射$f$转换为双射$N$进位制的符号串\n",
    "    - `num_to_bijective(x::Integer, chars::AbstractString) -> String`：将数值$x$通过指定的「进制字符集」`chars`转换为双射进位制的字符串\n",
    "- `bijective_to_num`：将双射进位制的数值转换为数值\n",
    "    - `bijective_to_num(s::Vector, N::Integer, f⁻¹::Function) -> Integer`：将双射$N$进位制的符号串`s`通过「符号→位值」的逆映射$f^{-1}$转换为数值\n",
    "    - `bijective_to_num(s::AbstractString, chars::AbstractString) -> Integer`：将双射进位制的符号串`s`通过指定的「进制字符集」`chars`转换为数值"
   ]
  },
  {
   "cell_type": "markdown",
   "metadata": {},
   "source": [
    "## 参考"
   ]
  },
  {
   "cell_type": "markdown",
   "metadata": {},
   "source": [
    "- 🔗[双射记数系统 - 维基百科](https://zh.wikipedia.org/wiki/%E9%9B%99%E5%B0%84%E8%A8%98%E6%95%B8)\n",
    "- 🔗[Bijective numeration - Wikipedia](https://en.wikipedia.org/wiki/Bijective_numeration)"
   ]
  },
  {
   "cell_type": "markdown",
   "metadata": {},
   "source": [
    "<!-- README-end -->\n",
    "<!-- TEST-begin -->\n",
    "## 库代码"
   ]
  },
  {
   "cell_type": "markdown",
   "metadata": {},
   "source": [
    "<!-- %ignore-cell -->\n",
    "### 建立模块上下文"
   ]
  },
  {
   "cell_type": "code",
   "execution_count": 37,
   "metadata": {},
   "outputs": [],
   "source": [
    "#= %only-compiled\n",
    "module BijectiveBase\n",
    "%only-compiled =#"
   ]
  },
  {
   "cell_type": "markdown",
   "metadata": {},
   "source": [
    "### 代码"
   ]
  },
  {
   "cell_type": "markdown",
   "metadata": {},
   "source": [
    "📌教训：对此类「数值找规律」的问题，一定要善用**🛠️表格对照法**\n",
    "\n",
    "- ❌闷头写算法：仅凭少量样例编写算法，容易导致过拟合（面对新例出现异常）\n",
    "- ❌瞎蒙改代码：仅凭一时直觉修改试错，往往思路难拟合（按下葫芦又浮起瓢）\n",
    "\n",
    "| 原 | BIN | Bijective BIN | $\\lceil \\log_2 原 \\rceil$ | `length(bi-bin)` | 权值显示 |\n",
    "| ---: | ---: | ---: | ---: | ---: | ---: |\n",
    "| 0 | 0 |  |  |  |  |\n",
    "| 1 | 1 | 0 | 1 | 1 | 1 |\n",
    "| 2 | 10 | 1 | 1 | 1 | 2 |\n",
    "| 3 | 11 | 00 | 2 | 2 | 21 |\n",
    "| 4 | 100 | 01 | 2 | 2 | 22 |\n",
    "| 5 | 101 | 10 | 3 | 2 | 41 |\n",
    "| 6 | 110 | 11 | 3 | 2 | 42 |\n",
    "| 7 | 111 | 000 | 3 | 3 | 421 |\n",
    "| 8 | 1000 | 001 | 3 | 3 | 422 |\n",
    "| 9 | 1001 | 010 | 4 | 3 | 441 |\n",
    "| 10 | 1010 | 011 | 4 | 3 | 442 |\n",
    "| 11 | 1011 | 100 | 4 | 3 | 821 |\n",
    "| 12 | 1100 | 101 | 4 | 3 | 822 |\n",
    "| 13 | 1101 | 110 | 4 | 3 | 841 |\n",
    "| 14 | 1110 | 111 | 4 | 3 | 842 |\n",
    "| 15 | 1111 | 0000 | 4 | 4 | 8421 |\n",
    "| $\\vdots$ | $\\vdots$ | $\\vdots$ | $\\vdots$ | $\\vdots$ | $\\vdots$ |"
   ]
  },
  {
   "cell_type": "markdown",
   "metadata": {},
   "source": [
    "<!-- %ignore-cell -->\n",
    "暴力算法の铺垫"
   ]
  },
  {
   "cell_type": "code",
   "execution_count": 38,
   "metadata": {},
   "outputs": [
    {
     "name": "stdout",
     "output_type": "stream",
     "text": [
      "iter_desc(3, 4) |> collect = [[1, 1, 1, 1], [1, 1, 1, 2], [1, 1, 1, 3], [1, 1, 2, 1], [1, 1, 2, 2], [1, 1, 2, 3], [1, 1, 3, 1], [1, 1, 3, 2], [1, 1, 3, 3], [1, 2, 1, 1], [1, 2, 1, 2], [1, 2, 1, 3], [1, 2, 2, 1], [1, 2, 2, 2], [1, 2, 2, 3], [1, 2, 3, 1], [1, 2, 3, 2], [1, 2, 3, 3], [1, 3, 1, 1], [1, 3, 1, 2], [1, 3, 1, 3], [1, 3, 2, 1], [1, 3, 2, 2], [1, 3, 2, 3], [1, 3, 3, 1], [1, 3, 3, 2], [1, 3, 3, 3], [2, 1, 1, 1], [2, 1, 1, 2], [2, 1, 1, 3], [2, 1, 2, 1], [2, 1, 2, 2], [2, 1, 2, 3], [2, 1, 3, 1], [2, 1, 3, 2], [2, 1, 3, 3], [2, 2, 1, 1], [2, 2, 1, 2], [2, 2, 1, 3], [2, 2, 2, 1], [2, 2, 2, 2], [2, 2, 2, 3], [2, 2, 3, 1], [2, 2, 3, 2], [2, 2, 3, 3], [2, 3, 1, 1], [2, 3, 1, 2], [2, 3, 1, 3], [2, 3, 2, 1], [2, 3, 2, 2], [2, 3, 2, 3], [2, 3, 3, 1], [2, 3, 3, 2], [2, 3, 3, 3], [3, 1, 1, 1], [3, 1, 1, 2], [3, 1, 1, 3], [3, 1, 2, 1], [3, 1, 2, 2], [3, 1, 2, 3], [3, 1, 3, 1], [3, 1, 3, 2], [3, 1, 3, 3], [3, 2, 1, 1], [3, 2, 1, 2], [3, 2, 1, 3], [3, 2, 2, 1], [3, 2, 2, 2], [3, 2, 2, 3], [3, 2, 3, 1], [3, 2, 3, 2], [3, 2, 3, 3], [3, 3, 1, 1], [3, 3, 1, 2], [3, 3, 1, 3], [3, 3, 2, 1], [3, 3, 2, 2], [3, 3, 2, 3], [3, 3, 3, 1], [3, 3, 3, 2], [3, 3, 3, 3]]\n"
     ]
    },
    {
     "data": {
      "text/plain": [
       "16-element Vector{Vector{Int64}}:\n",
       " [0]\n",
       " [1]\n",
       " [0, 0]\n",
       " [0, 1]\n",
       " [1, 0]\n",
       " [1, 1]\n",
       " [0, 0, 0]\n",
       " [0, 0, 1]\n",
       " [0, 1, 0]\n",
       " [0, 1, 1]\n",
       " [1, 0, 0]\n",
       " [1, 0, 1]\n",
       " [1, 1, 0]\n",
       " [1, 1, 1]\n",
       " [0, 0, 0, 0]\n",
       " [0, 0, 0, 1]"
      ]
     },
     "execution_count": 38,
     "metadata": {},
     "output_type": "execute_result"
    }
   ],
   "source": [
    "# %ignore-cell\n",
    "\"生成各个进制下所有不同的位值组合\"\n",
    "iter_desc(N, len) = (\n",
    "    # 初值\n",
    "    len == 0 ? [] :\n",
    "    len == 1 ? ([i] for i in 1:N) :\n",
    "    # 递归\n",
    "    (\n",
    "        [i, desc...]\n",
    "        for i in 1:N # 外层\n",
    "        for desc in iter_desc(N, len-1) # 里层\n",
    "    )\n",
    ")\n",
    "\n",
    "\"\"\"\n",
    "    num_to_bijective_BRUTE(x, N, f)\n",
    "暴力转换算法\n",
    "- 本质是基于「递归」与「计数原理」\n",
    "- 🎯保证结果正确，为后续作参照\n",
    "\"\"\"\n",
    "function num_to_bijective_BRUTE(x, N, f)\n",
    "    x == 0 && return []\n",
    "    desc_arr = #= Vector{Int} =#[]\n",
    "    len = 1\n",
    "    while length(desc_arr) < x\n",
    "        push!(desc_arr, iter_desc(N, len)...)\n",
    "        len += 1\n",
    "    end\n",
    "    desc_arr[x] .|> f\n",
    "end\n",
    "\n",
    "@show iter_desc(3,4) |> collect\n",
    "[num_to_bijective_BRUTE(i, 2, x -> x-1) for i in 1:16]"
   ]
  },
  {
   "cell_type": "markdown",
   "metadata": {},
   "source": [
    "计算长度"
   ]
  },
  {
   "cell_type": "code",
   "execution_count": 39,
   "metadata": {},
   "outputs": [
    {
     "name": "stderr",
     "output_type": "stream",
     "text": [
      "\u001b[36m\u001b[1m┌ \u001b[22m\u001b[39m\u001b[36m\u001b[1mInfo: \u001b[22m\u001b[39m长度测试成功！\n",
      "\u001b[36m\u001b[1m│ \u001b[22m\u001b[39m  N = 1\n",
      "\u001b[36m\u001b[1m└ \u001b[22m\u001b[39m  range_max = 20\n",
      "\u001b[36m\u001b[1m┌ \u001b[22m\u001b[39m\u001b[36m\u001b[1mInfo: \u001b[22m\u001b[39m长度测试成功！\n",
      "\u001b[36m\u001b[1m│ \u001b[22m\u001b[39m  N = 2\n",
      "\u001b[36m\u001b[1m└ \u001b[22m\u001b[39m  range_max = 10\n",
      "\u001b[36m\u001b[1m┌ \u001b[22m\u001b[39m\u001b[36m\u001b[1mInfo: \u001b[22m\u001b[39m长度测试成功！\n",
      "\u001b[36m\u001b[1m│ \u001b[22m\u001b[39m  N = 3\n",
      "\u001b[36m\u001b[1m└ \u001b[22m\u001b[39m  range_max = 6\n",
      "\u001b[36m\u001b[1m┌ \u001b[22m\u001b[39m\u001b[36m\u001b[1mInfo: \u001b[22m\u001b[39m长度测试成功！\n",
      "\u001b[36m\u001b[1m│ \u001b[22m\u001b[39m  N = 4\n",
      "\u001b[36m\u001b[1m└ \u001b[22m\u001b[39m  range_max = 5\n",
      "\u001b[36m\u001b[1m┌ \u001b[22m\u001b[39m\u001b[36m\u001b[1mInfo: \u001b[22m\u001b[39m长度测试成功！\n",
      "\u001b[36m\u001b[1m│ \u001b[22m\u001b[39m  N = 5\n",
      "\u001b[36m\u001b[1m└ \u001b[22m\u001b[39m  range_max = 4\n",
      "\u001b[36m\u001b[1m┌ \u001b[22m\u001b[39m\u001b[36m\u001b[1mInfo: \u001b[22m\u001b[39m长度测试成功！\n",
      "\u001b[36m\u001b[1m│ \u001b[22m\u001b[39m  N = 6\n",
      "\u001b[36m\u001b[1m└ \u001b[22m\u001b[39m  range_max = 3\n",
      "\u001b[36m\u001b[1m┌ \u001b[22m\u001b[39m\u001b[36m\u001b[1mInfo: \u001b[22m\u001b[39m长度测试成功！\n",
      "\u001b[36m\u001b[1m│ \u001b[22m\u001b[39m  N = 7\n",
      "\u001b[36m\u001b[1m└ \u001b[22m\u001b[39m  range_max = 2\n",
      "\u001b[36m\u001b[1m┌ \u001b[22m\u001b[39m\u001b[36m\u001b[1mInfo: \u001b[22m\u001b[39m长度测试成功！\n",
      "\u001b[36m\u001b[1m│ \u001b[22m\u001b[39m  N = 8\n",
      "\u001b[36m\u001b[1m└ \u001b[22m\u001b[39m  range_max = 2\n",
      "\u001b[36m\u001b[1m┌ \u001b[22m\u001b[39m\u001b[36m\u001b[1mInfo: \u001b[22m\u001b[39m长度测试成功！\n",
      "\u001b[36m\u001b[1m│ \u001b[22m\u001b[39m  N = 9\n",
      "\u001b[36m\u001b[1m└ \u001b[22m\u001b[39m  range_max = 2\n",
      "\u001b[36m\u001b[1m┌ \u001b[22m\u001b[39m\u001b[36m\u001b[1mInfo: \u001b[22m\u001b[39m长度测试成功！\n",
      "\u001b[36m\u001b[1m│ \u001b[22m\u001b[39m  N = 10\n",
      "\u001b[36m\u001b[1m└ \u001b[22m\u001b[39m  range_max = 2\n"
     ]
    }
   ],
   "source": [
    "# ! Jupyter允许在单元格中导出符号（而无视模块上下文）\n",
    "export length_bijective\n",
    "\n",
    "\"\"\"\n",
    "    length_bijective(x::I, N) -> Integer where {I <: Integer}\n",
    "计算「双射进位制数」的长度（基数版）\n",
    "- @param x 需要转换的数值\n",
    "- @param N 进制基数\n",
    "- @returns 所转换成的「双射N进位数」的基数\n",
    "\"\"\"\n",
    "function length_bijective(x::I, N::U) where {I <: Integer, U <: Integer}\n",
    "    local n::I = 0\n",
    "    local y::I = x\n",
    "    while y >= N^n\n",
    "        y -= N^n\n",
    "        n += 1\n",
    "    end\n",
    "    return n\n",
    "end\n",
    "\"\"\"\n",
    "    length_bijective(x, chars::AbstractString) -> Integer\n",
    "计算「双射进位制数」的长度（字符串版）\n",
    "- @param x 需要转换的数值\n",
    "- @param chars 进制字符集\n",
    "- @returns 🔗以「字符集大小」为进制基数\n",
    "\"\"\"\n",
    "length_bijective(x, chars::AbstractString) = length_bijective(x, length(chars))\n",
    "# %ignore-below # * 测试代码: 验证长度正确\n",
    "\n",
    "@assert length_bijective.(0:15, 1) == collect(0:15) # 一进制就是堆叠\n",
    "@assert length_bijective.(0:15, 2) == [0, 1, 1, 2, 2, 2, 2, 3, 3, 3, 3, 3, 3, 3, 3, 4] # 二进制\n",
    "@assert length_bijective.(0:15, 3) == [0, 1, 1, 1, 2, 2, 2, 2, 2, 2, 2, 2, 2, 3, 3, 3] # 三进制\n",
    "let test(N, range) = @assert all(length_bijective.(range, N) .== length.(num_to_bijective_BRUTE.(range, N, identity)))\n",
    "    for N in 1:10\n",
    "        range_max = 20 ÷ N\n",
    "        test(N, 0:range_max)\n",
    "        @info \"长度测试成功！\" N range_max\n",
    "    end\n",
    "end"
   ]
  },
  {
   "cell_type": "markdown",
   "metadata": {},
   "source": [
    "数组版本"
   ]
  },
  {
   "cell_type": "code",
   "execution_count": 40,
   "metadata": {},
   "outputs": [
    {
     "data": {
      "text/plain": [
       "4-element Vector{DataFrame}:\n",
       " \u001b[1m16×6 DataFrame\u001b[0m\n",
       "\u001b[1m Row \u001b[0m│\u001b[1m num     \u001b[0m\u001b[1m len   \u001b[0m\u001b[1m arr_B                             \u001b[0m\u001b[1m arr                 \u001b[0m ⋯\n",
       "     │\u001b[90m Nothing \u001b[0m\u001b[90m Int64 \u001b[0m\u001b[90m Array…                            \u001b[0m\u001b[90m Array…              \u001b[0m ⋯\n",
       "─────┼──────────────────────────────────────────────────────────────────────────\n",
       "   1 │\u001b[90m         \u001b[0m     1  [1]                                [1]                  ⋯\n",
       "   2 │\u001b[90m         \u001b[0m     2  [1, 1]                             [1, 1]\n",
       "   3 │\u001b[90m         \u001b[0m     3  [1, 1, 1]                          [1, 1, 1]\n",
       "   4 │\u001b[90m         \u001b[0m     4  [1, 1, 1, 1]                       [1, 1, 1, 1]\n",
       "   5 │\u001b[90m         \u001b[0m     5  [1, 1, 1, 1, 1]                    [1, 1, 1, 1, 1]      ⋯\n",
       "   6 │\u001b[90m         \u001b[0m     6  [1, 1, 1, 1, 1, 1]                 [1, 1, 1, 1, 1, 1]\n",
       "   7 │\u001b[90m         \u001b[0m     7  [1, 1, 1, 1, 1, 1, 1]              [1, 1, 1, 1, 1, 1, 1\n",
       "   8 │\u001b[90m         \u001b[0m     8  [1, 1, 1, 1, 1, 1, 1, 1]           [1, 1, 1, 1, 1, 1, 1\n",
       "   9 │\u001b[90m         \u001b[0m     9  [1, 1, 1, 1, 1, 1, 1, 1, 1]        [1, 1, 1, 1, 1, 1, 1 ⋯\n",
       "  10 │\u001b[90m         \u001b[0m    10  [1, 1, 1, 1, 1, 1, 1, 1, 1, 1]     [1, 1, 1, 1, 1, 1, 1\n",
       "  11 │\u001b[90m         \u001b[0m    11  [1, 1, 1, 1, 1, 1, 1, 1, 1, 1, 1]  [1, 1, 1, 1, 1, 1, 1\n",
       "  12 │\u001b[90m         \u001b[0m    12  [1, 1, 1, 1, 1, 1, 1, 1, 1, 1, 1…  [1, 1, 1, 1, 1, 1, 1\n",
       "  13 │\u001b[90m         \u001b[0m    13  [1, 1, 1, 1, 1, 1, 1, 1, 1, 1, 1…  [1, 1, 1, 1, 1, 1, 1 ⋯\n",
       "  14 │\u001b[90m         \u001b[0m    14  [1, 1, 1, 1, 1, 1, 1, 1, 1, 1, 1…  [1, 1, 1, 1, 1, 1, 1\n",
       "  15 │\u001b[90m         \u001b[0m    15  [1, 1, 1, 1, 1, 1, 1, 1, 1, 1, 1…  [1, 1, 1, 1, 1, 1, 1\n",
       "  16 │\u001b[90m         \u001b[0m    16  [1, 1, 1, 1, 1, 1, 1, 1, 1, 1, 1…  [1, 1, 1, 1, 1, 1, 1\n",
       "\u001b[36m                                                               3 columns omitted\u001b[0m\n",
       " \u001b[1m16×6 DataFrame\u001b[0m\n",
       "\u001b[1m Row \u001b[0m│\u001b[1m num    \u001b[0m\u001b[1m len   \u001b[0m\u001b[1m arr_B        \u001b[0m\u001b[1m arr          \u001b[0m\u001b[1m arr_r \u001b[0m\u001b[1m eq   \u001b[0m\n",
       "     │\u001b[90m String \u001b[0m\u001b[90m Int64 \u001b[0m\u001b[90m Array…       \u001b[0m\u001b[90m Array…       \u001b[0m\u001b[90m Int64 \u001b[0m\u001b[90m Bool \u001b[0m\n",
       "─────┼────────────────────────────────────────────────────────\n",
       "   1 │ 1           1  [1]           [1]               1  true\n",
       "   2 │ 10          1  [2]           [2]               2  true\n",
       "   3 │ 11          2  [1, 1]        [1, 1]            3  true\n",
       "   4 │ 100         2  [1, 2]        [1, 2]            4  true\n",
       "   5 │ 101         2  [2, 1]        [2, 1]            5  true\n",
       "   6 │ 110         2  [2, 2]        [2, 2]            6  true\n",
       "   7 │ 111         3  [1, 1, 1]     [1, 1, 1]         7  true\n",
       "   8 │ 1000        3  [1, 1, 2]     [1, 1, 2]         8  true\n",
       "   9 │ 1001        3  [1, 2, 1]     [1, 2, 1]         9  true\n",
       "  10 │ 1010        3  [1, 2, 2]     [1, 2, 2]        10  true\n",
       "  11 │ 1011        3  [2, 1, 1]     [2, 1, 1]        11  true\n",
       "  12 │ 1100        3  [2, 1, 2]     [2, 1, 2]        12  true\n",
       "  13 │ 1101        3  [2, 2, 1]     [2, 2, 1]        13  true\n",
       "  14 │ 1110        3  [2, 2, 2]     [2, 2, 2]        14  true\n",
       "  15 │ 1111        4  [1, 1, 1, 1]  [1, 1, 1, 1]     15  true\n",
       "  16 │ 10000       4  [1, 1, 1, 2]  [1, 1, 1, 2]     16  true\n",
       " \u001b[1m16×6 DataFrame\u001b[0m\n",
       "\u001b[1m Row \u001b[0m│\u001b[1m num    \u001b[0m\u001b[1m len   \u001b[0m\u001b[1m arr_B     \u001b[0m\u001b[1m arr       \u001b[0m\u001b[1m arr_r \u001b[0m\u001b[1m eq   \u001b[0m\n",
       "     │\u001b[90m String \u001b[0m\u001b[90m Int64 \u001b[0m\u001b[90m Array…    \u001b[0m\u001b[90m Array…    \u001b[0m\u001b[90m Int64 \u001b[0m\u001b[90m Bool \u001b[0m\n",
       "─────┼──────────────────────────────────────────────────\n",
       "   1 │ 1           1  [1]        [1]            1  true\n",
       "   2 │ 2           1  [2]        [2]            2  true\n",
       "   3 │ 10          1  [3]        [3]            3  true\n",
       "   4 │ 11          2  [1, 1]     [1, 1]         4  true\n",
       "   5 │ 12          2  [1, 2]     [1, 2]         5  true\n",
       "   6 │ 20          2  [1, 3]     [1, 3]         6  true\n",
       "   7 │ 21          2  [2, 1]     [2, 1]         7  true\n",
       "   8 │ 22          2  [2, 2]     [2, 2]         8  true\n",
       "   9 │ 100         2  [2, 3]     [2, 3]         9  true\n",
       "  10 │ 101         2  [3, 1]     [3, 1]        10  true\n",
       "  11 │ 102         2  [3, 2]     [3, 2]        11  true\n",
       "  12 │ 110         2  [3, 3]     [3, 3]        12  true\n",
       "  13 │ 111         3  [1, 1, 1]  [1, 1, 1]     13  true\n",
       "  14 │ 112         3  [1, 1, 2]  [1, 1, 2]     14  true\n",
       "  15 │ 120         3  [1, 1, 3]  [1, 1, 3]     15  true\n",
       "  16 │ 121         3  [1, 2, 1]  [1, 2, 1]     16  true\n",
       " \u001b[1m16×6 DataFrame\u001b[0m\n",
       "\u001b[1m Row \u001b[0m│\u001b[1m num    \u001b[0m\u001b[1m len   \u001b[0m\u001b[1m arr_B  \u001b[0m\u001b[1m arr    \u001b[0m\u001b[1m arr_r \u001b[0m\u001b[1m eq   \u001b[0m\n",
       "     │\u001b[90m String \u001b[0m\u001b[90m Int64 \u001b[0m\u001b[90m Array… \u001b[0m\u001b[90m Array… \u001b[0m\u001b[90m Int64 \u001b[0m\u001b[90m Bool \u001b[0m\n",
       "─────┼────────────────────────────────────────────\n",
       "   1 │ 1           1  [1]     [1]         1  true\n",
       "   2 │ 2           1  [2]     [2]         2  true\n",
       "   3 │ 3           1  [3]     [3]         3  true\n",
       "   4 │ 10          1  [4]     [4]         4  true\n",
       "   5 │ 11          2  [1, 1]  [1, 1]      5  true\n",
       "   6 │ 12          2  [1, 2]  [1, 2]      6  true\n",
       "   7 │ 13          2  [1, 3]  [1, 3]      7  true\n",
       "   8 │ 20          2  [1, 4]  [1, 4]      8  true\n",
       "   9 │ 21          2  [2, 1]  [2, 1]      9  true\n",
       "  10 │ 22          2  [2, 2]  [2, 2]     10  true\n",
       "  11 │ 23          2  [2, 3]  [2, 3]     11  true\n",
       "  12 │ 30          2  [2, 4]  [2, 4]     12  true\n",
       "  13 │ 31          2  [3, 1]  [3, 1]     13  true\n",
       "  14 │ 32          2  [3, 2]  [3, 2]     14  true\n",
       "  15 │ 33          2  [3, 3]  [3, 3]     15  true\n",
       "  16 │ 100         2  [3, 4]  [3, 4]     16  true"
      ]
     },
     "execution_count": 40,
     "metadata": {},
     "output_type": "execute_result"
    }
   ],
   "source": [
    "# ! Jupyter允许在单元格中导出符号（而无视模块上下文）\n",
    "export num_to_bijective, bijective_to_num\n",
    "\n",
    "\"\"\"\n",
    "    num_to_bijective(x::I, N::U, f::Function, T::Type=Any) -> Vector{T} where {I <: Integer, U <: Integer}\n",
    "原数→双射进位制数（数组版本）\n",
    "- ⚠️其中返回的数组对「索引」而言是「从高到底数」的\n",
    "    - 遵循字面呈现规则，如「双射三进制」下`101`被直译为`[1, 0, 1]`\n",
    "    - 📌若后续需要扩展，可能需要倒序\n",
    "\"\"\"\n",
    "function num_to_bijective(x::I, N::U, f::Function, T::Type=Any) where {I <: Integer, U <: Integer}\n",
    "    # ! 通用，无需考虑x=0的情况\n",
    "\n",
    "    # 减去1111，并得到长度 | 将「1~N」问题 转换为 「0~(N-1)」问题\n",
    "    local n::I = 0\n",
    "    local y::I = x\n",
    "    while y >= N^n\n",
    "        y -= N^n\n",
    "        n += 1\n",
    "    end\n",
    "\n",
    "    # 将y按照常规的「除N取余」来做 | 已转换为「0~(N-1)」问题\n",
    "    local s::Vector{T} = Vector{T}(undef, n)\n",
    "    local c::I\n",
    "    while n > 0\n",
    "        y, c = divrem(y, N) # 除N取余\n",
    "        s[n] = f(c + 1) # 计入\n",
    "        n -= 1 # 自减\n",
    "    end\n",
    "\n",
    "    # 返回最终结果\n",
    "    return s\n",
    "end\n",
    "     \n",
    "\"\"\"\n",
    "    bijective_to_num(s::Vector{T}, N::U, f⁻¹::Function) -> Integer\n",
    "双射进制数→原数（数组版本）\n",
    "\"\"\"\n",
    "function bijective_to_num(s::Vector{T}, N::U, f⁻¹::Function) where {T, U <: Integer}\n",
    "    isempty(s) && return 0\n",
    "    local l::Integer = length(s)\n",
    "    return sum(\n",
    "        f⁻¹(s[l-i]) * N^i\n",
    "        for i in 0:(l-1)\n",
    "    )\n",
    "end\n",
    "# %ignore-below # * 测试代码\n",
    "\n",
    "# 尝试使用数据框\n",
    "has_DF = try\n",
    "    using DataFrames: DataFrame\n",
    "    true\n",
    "catch\n",
    "    @warn \"DataFrames包未启用！\"\n",
    "    false\n",
    "end\n",
    "# 正式开始\n",
    "let test(N = 2, NUM = 16) = begin\n",
    "    f(x) = x#-1\n",
    "    f⁻¹(x) = x#+1\n",
    "    parseInt(x) = isempty(x) ? 0 : parse(Int, x)\n",
    "\n",
    "    # 验证空值\n",
    "    @assert isempty(num_to_bijective(0, N, f))\n",
    "    @assert isempty(num_to_bijective_BRUTE(0, N, f))\n",
    "\n",
    "    # 穷举数据 | 使用广播方法\n",
    "    range = 1:NUM\n",
    "    num = N <= 1 ? [nothing for _ in range] : string.(range; base=N)\n",
    "    len = length_bijective.(range, N)\n",
    "    arr = num_to_bijective.(range, N, f) .|> Vector{Int}\n",
    "    arr_B = num_to_bijective_BRUTE.(range, N, f) .|> Vector{Int}\n",
    "    arr_r = bijective_to_num.(arr, N, f⁻¹)\n",
    "    # 可选地启用DF进行展示\n",
    "    df = has_DF ? DataFrame(\n",
    "        # :i => range,\n",
    "        :num => num,\n",
    "        :len => len,\n",
    "        :arr_B => arr_B,\n",
    "        :arr => arr,\n",
    "        :arr_r => arr_r,\n",
    "        :eq => arr .== arr_B,\n",
    "    ) : nothing\n",
    "    @assert all(arr .== arr_B) # 与正确的「暴力算法」结果相同\n",
    "    @assert all(arr_r .== range) # 正逆向转换不损失信息\n",
    "    # df[df[!, :eq] .⊻ true, :]\n",
    "    has_DF ? df : arr\n",
    "end\n",
    "test.([1, 2, 3, 4])\n",
    "end"
   ]
  },
  {
   "cell_type": "markdown",
   "metadata": {},
   "source": [
    "字符串版本"
   ]
  },
  {
   "cell_type": "code",
   "execution_count": 41,
   "metadata": {},
   "outputs": [
    {
     "data": {
      "text/plain": [
       "4-element Vector{DataFrame}:\n",
       " \u001b[1m16×4 DataFrame\u001b[0m\n",
       "\u001b[1m Row \u001b[0m│\u001b[1m num     \u001b[0m\u001b[1m len   \u001b[0m\u001b[1m arr                              \u001b[0m\u001b[1m arr_r \u001b[0m\n",
       "     │\u001b[90m Nothing \u001b[0m\u001b[90m Int64 \u001b[0m\u001b[90m String                           \u001b[0m\u001b[90m Int64 \u001b[0m\n",
       "─────┼─────────────────────────────────────────────────────────\n",
       "   1 │\u001b[90m         \u001b[0m     1  一                                    1\n",
       "   2 │\u001b[90m         \u001b[0m     2  一一                                  2\n",
       "   3 │\u001b[90m         \u001b[0m     3  一一一                                3\n",
       "   4 │\u001b[90m         \u001b[0m     4  一一一一                              4\n",
       "   5 │\u001b[90m         \u001b[0m     5  一一一一一                            5\n",
       "   6 │\u001b[90m         \u001b[0m     6  一一一一一一                          6\n",
       "   7 │\u001b[90m         \u001b[0m     7  一一一一一一一                        7\n",
       "   8 │\u001b[90m         \u001b[0m     8  一一一一一一一一                      8\n",
       "   9 │\u001b[90m         \u001b[0m     9  一一一一一一一一一                    9\n",
       "  10 │\u001b[90m         \u001b[0m    10  一一一一一一一一一一                 10\n",
       "  11 │\u001b[90m         \u001b[0m    11  一一一一一一一一一一一               11\n",
       "  12 │\u001b[90m         \u001b[0m    12  一一一一一一一一一一一一             12\n",
       "  13 │\u001b[90m         \u001b[0m    13  一一一一一一一一一一一一一           13\n",
       "  14 │\u001b[90m         \u001b[0m    14  一一一一一一一一一一一一一一         14\n",
       "  15 │\u001b[90m         \u001b[0m    15  一一一一一一一一一一一一一一一       15\n",
       "  16 │\u001b[90m         \u001b[0m    16  一一一一一一一一一一一一一一一一     16\n",
       " \u001b[1m16×4 DataFrame\u001b[0m\n",
       "\u001b[1m Row \u001b[0m│\u001b[1m num    \u001b[0m\u001b[1m len   \u001b[0m\u001b[1m arr      \u001b[0m\u001b[1m arr_r \u001b[0m\n",
       "     │\u001b[90m String \u001b[0m\u001b[90m Int64 \u001b[0m\u001b[90m String   \u001b[0m\u001b[90m Int64 \u001b[0m\n",
       "─────┼────────────────────────────────\n",
       "   1 │ 1           1  一            1\n",
       "   2 │ 10          1  二            2\n",
       "   3 │ 11          2  一一          3\n",
       "   4 │ 100         2  一二          4\n",
       "   5 │ 101         2  二一          5\n",
       "   6 │ 110         2  二二          6\n",
       "   7 │ 111         3  一一一        7\n",
       "   8 │ 1000        3  一一二        8\n",
       "   9 │ 1001        3  一二一        9\n",
       "  10 │ 1010        3  一二二       10\n",
       "  11 │ 1011        3  二一一       11\n",
       "  12 │ 1100        3  二一二       12\n",
       "  13 │ 1101        3  二二一       13\n",
       "  14 │ 1110        3  二二二       14\n",
       "  15 │ 1111        4  一一一一     15\n",
       "  16 │ 10000       4  一一一二     16\n",
       " \u001b[1m16×4 DataFrame\u001b[0m\n",
       "\u001b[1m Row \u001b[0m│\u001b[1m num    \u001b[0m\u001b[1m len   \u001b[0m\u001b[1m arr    \u001b[0m\u001b[1m arr_r \u001b[0m\n",
       "     │\u001b[90m String \u001b[0m\u001b[90m Int64 \u001b[0m\u001b[90m String \u001b[0m\u001b[90m Int64 \u001b[0m\n",
       "─────┼──────────────────────────────\n",
       "   1 │ 1           1  一          1\n",
       "   2 │ 2           1  二          2\n",
       "   3 │ 10          1  三          3\n",
       "   4 │ 11          2  一一        4\n",
       "   5 │ 12          2  一二        5\n",
       "   6 │ 20          2  一三        6\n",
       "   7 │ 21          2  二一        7\n",
       "   8 │ 22          2  二二        8\n",
       "   9 │ 100         2  二三        9\n",
       "  10 │ 101         2  三一       10\n",
       "  11 │ 102         2  三二       11\n",
       "  12 │ 110         2  三三       12\n",
       "  13 │ 111         3  一一一     13\n",
       "  14 │ 112         3  一一二     14\n",
       "  15 │ 120         3  一一三     15\n",
       "  16 │ 121         3  一二一     16\n",
       " \u001b[1m16×4 DataFrame\u001b[0m\n",
       "\u001b[1m Row \u001b[0m│\u001b[1m num    \u001b[0m\u001b[1m len   \u001b[0m\u001b[1m arr    \u001b[0m\u001b[1m arr_r \u001b[0m\n",
       "     │\u001b[90m String \u001b[0m\u001b[90m Int64 \u001b[0m\u001b[90m String \u001b[0m\u001b[90m Int64 \u001b[0m\n",
       "─────┼──────────────────────────────\n",
       "   1 │ 1           1  一          1\n",
       "   2 │ 2           1  二          2\n",
       "   3 │ 3           1  三          3\n",
       "   4 │ 10          1  四          4\n",
       "   5 │ 11          2  一一        5\n",
       "   6 │ 12          2  一二        6\n",
       "   7 │ 13          2  一三        7\n",
       "   8 │ 20          2  一四        8\n",
       "   9 │ 21          2  二一        9\n",
       "  10 │ 22          2  二二       10\n",
       "  11 │ 23          2  二三       11\n",
       "  12 │ 30          2  二四       12\n",
       "  13 │ 31          2  三一       13\n",
       "  14 │ 32          2  三二       14\n",
       "  15 │ 33          2  三三       15\n",
       "  16 │ 100         2  三四       16"
      ]
     },
     "execution_count": 41,
     "metadata": {},
     "output_type": "execute_result"
    }
   ],
   "source": [
    "# * 一些工具函数\n",
    "\n",
    "\"【内部】获取指定*位置*的字符（无视Unicode多字节限制）\"\n",
    "@inline char_at(s::AbstractString, position::Integer) = s[nextind(s, 0, position)]\n",
    "\n",
    "\"【内部】根据字符获取首次出现的*位置*\"\n",
    "function first_index(s::AbstractString, c::AbstractChar)\n",
    "    local i = firstindex(s)\n",
    "    local position = 1\n",
    "    while i <= lastindex(s)\n",
    "        # 相等⇒返回\n",
    "        s[i] === c && return position\n",
    "        # 否则⇒递增\n",
    "        i = nextind(s, i)\n",
    "        position += 1\n",
    "    end\n",
    "    return nothing\n",
    "end\n",
    "\"反过来也行\"\n",
    "first_index(c::AbstractChar, s::AbstractString) = first_index(s, c)\n",
    "# %ignore-begin # *测试 \n",
    "let s = \"一二三四五六七八九十\"\n",
    "    test_set = [\n",
    "        3 => '三'\n",
    "        5 => '五'\n",
    "        9 => '九'\n",
    "    ]\n",
    "    for (position, c) in test_set\n",
    "        @assert char_at(s, position) === c\n",
    "        @assert first_index(c, s) == position\n",
    "    end\n",
    "end\n",
    "# %ignore-end\n",
    "\n",
    "# ! 函数已导出，此处只是添加了不同的方法\n",
    "\n",
    "\"\"\"\n",
    "    num_to_bijective(x::I, chars::AbstractString) where {I <: Integer} -> Integer\n",
    "原数→双射进位制数（字符串版本）\n",
    "- 自动以「字符集大小」作为基数\n",
    "- ⚠️其中返回的数组对「索引」而言是「从高到底数」的\n",
    "    - 遵循字面呈现规则，如「双射三进制」下`101`即字符串\"101\"\n",
    "    - 📌若后续需要扩展，可能需要倒序读取\n",
    "\"\"\"\n",
    "function num_to_bijective(x::I, chars::AbstractString) where {I <: Integer}\n",
    "    # ! 通用，无需考虑x=0的情况\n",
    "\n",
    "    # 通过字串长度获得基数N\n",
    "    local N = length(chars)\n",
    "\n",
    "    # 减去1111，并得到长度 | 将「1~N」问题 转换为 「0~(N-1)」问题\n",
    "    local n::I = 0\n",
    "    local y::I = x\n",
    "    while y >= N^n\n",
    "        y -= N^n\n",
    "        n += 1\n",
    "    end\n",
    "\n",
    "    # 将y按照常规的「除N取余」来做 | 已转换为「0~(N-1)」问题\n",
    "    local s::Vector{Char} = Vector{Char}(undef, n)\n",
    "    local c::I\n",
    "    while n > 0\n",
    "        y, c = divrem(y, N) # 除N取余\n",
    "        s[n] = char_at(chars, c+1) # 计入\n",
    "        n -= 1 # 自减\n",
    "    end\n",
    "\n",
    "    # 返回最终结果\n",
    "    return join(s)\n",
    "end\n",
    "     \n",
    "\"\"\"\n",
    "    bijective_to_num(s::AbstractString, chars::AbstractString)\n",
    "双射进制数→原数（字符串版本）\n",
    "- 自动以「字符集大小」作为基数\n",
    "\"\"\"\n",
    "function bijective_to_num(s::AbstractString, chars::AbstractString)\n",
    "    isempty(s) && return 0\n",
    "    local N = length(chars)\n",
    "    local l = length(s)\n",
    "    return sum(\n",
    "        first_index(chars, char_at(s, l-i)) * N^i\n",
    "        for i in 0:(l-1)\n",
    "    )\n",
    "end\n",
    "# %ignore-below # * 测试代码\n",
    "\n",
    "# 尝试使用数据框\n",
    "has_DF = try\n",
    "    using DataFrames: DataFrame\n",
    "    true\n",
    "catch\n",
    "    @warn \"DataFrames包未启用！\"\n",
    "    false\n",
    "end\n",
    "# 正式开始\n",
    "let test(chars::AbstractString, NUM = 16) = begin\n",
    "    N = length(chars)\n",
    "    parseInt(x) = isempty(x) ? 0 : parse(Int, x)\n",
    "\n",
    "    # 验证空值\n",
    "    @assert isempty(num_to_bijective(0, chars))\n",
    "    # @assert isempty(num_to_bijective_BRUTE(0, N, chars))\n",
    "\n",
    "    # 穷举数据 | 使用广播方法 # ! 此处不再与暴力算法作对比\n",
    "    range = 1:NUM\n",
    "    num = N <= 1 ? [nothing for _ in range] : string.(range; base=N)\n",
    "    len = length_bijective.(range, chars)\n",
    "    arr = num_to_bijective.(range, chars)\n",
    "    arr_r = bijective_to_num.(arr, chars)\n",
    "    eq = arr_r .== range\n",
    "    # 可选地启用DF进行展示\n",
    "    df = has_DF ? DataFrame(\n",
    "        # :i => range,\n",
    "        :num => num,\n",
    "        :len => len,\n",
    "        :arr => arr,\n",
    "        :arr_r => arr_r, # ! ↓全部相等就不展示了\n",
    "        (all(eq) ? [] : [:eq => eq])...,\n",
    "    ) : nothing\n",
    "    @assert all(eq) # 正逆向转换不损失信息\n",
    "    # df[df[!, :eq] .⊻ true, :]\n",
    "    has_DF ? df : arr\n",
    "end\n",
    "test.([\"1\", \"12\", \"123\", \"1234\"])\n",
    "test.([\"一\", \"一二\", \"一二三\", \"一二三四\"])\n",
    "end"
   ]
  },
  {
   "cell_type": "markdown",
   "metadata": {},
   "source": [
    "<!-- %ignore-cell -->\n",
    "### 终止模块上下文"
   ]
  },
  {
   "cell_type": "code",
   "execution_count": 42,
   "metadata": {},
   "outputs": [],
   "source": [
    "#= %only-compiled\n",
    "end # module\n",
    "%only-compiled =#"
   ]
  },
  {
   "cell_type": "markdown",
   "metadata": {},
   "source": [
    "<!-- %ignore-cell -->\n",
    "<!-- TEST-end -->\n",
    "## 构建代码"
   ]
  },
  {
   "cell_type": "markdown",
   "metadata": {},
   "source": [
    "<!-- %ignore-cell -->\n",
    "✨**Powered by [IpynbCompile.jl](https://github.com/ARCJ137442/IpynbCompile.jl)**"
   ]
  },
  {
   "cell_type": "markdown",
   "metadata": {},
   "source": [
    "<!-- %ignore-cell -->\n",
    "### 预先确定变量"
   ]
  },
  {
   "cell_type": "markdown",
   "metadata": {},
   "source": [
    "<!-- %ignore-cell -->\n",
    "路径变量"
   ]
  },
  {
   "cell_type": "code",
   "execution_count": 43,
   "metadata": {},
   "outputs": [],
   "source": [
    "# %ignore-cell\n",
    "\n",
    "# 列举文件名\n",
    "SELF_FILE = \"BijectiveBase.ipynb\"\n",
    "SELF_JL = \"BijectiveBase.jl\"\n",
    "README_FILE = \"README.md\"\n",
    "TEST_JL = \"runtests.jl\"\n",
    "\n",
    "# 计算根路径\n",
    "ROOT_PATH = (\n",
    "    contains(@__DIR__, \"src\")\n",
    "        ? dirname(@__DIR__)\n",
    "        : @__DIR__\n",
    ")\n",
    "\n",
    "# 计算各文件路径\n",
    "SELF_PATH = joinpath(ROOT_PATH, \"src\", SELF_FILE)\n",
    "SELF_PATH_JL = joinpath(ROOT_PATH, \"src\", SELF_JL)\n",
    "README_PATH = joinpath(ROOT_PATH, README_FILE)\n",
    "TEST_PATH = joinpath(ROOT_PATH, \"test\", TEST_JL)\n",
    "\n",
    "# 验证路径存在\n",
    "@assert ispath(SELF_PATH)\n",
    "@assert ispath(SELF_PATH_JL)\n",
    "@assert ispath(README_PATH)\n",
    "@assert ispath(TEST_PATH)"
   ]
  },
  {
   "cell_type": "markdown",
   "metadata": {},
   "source": [
    "<!-- %ignore-cell -->\n",
    "导入外部库"
   ]
  },
  {
   "cell_type": "code",
   "execution_count": 44,
   "metadata": {},
   "outputs": [],
   "source": [
    "# %ignore-cell\n",
    "using IpynbCompile"
   ]
  },
  {
   "cell_type": "markdown",
   "metadata": {},
   "source": [
    "<!-- %ignore-cell -->\n",
    "自身笔记本"
   ]
  },
  {
   "cell_type": "code",
   "execution_count": 45,
   "metadata": {},
   "outputs": [
    {
     "data": {
      "text/plain": [
       "IpynbNotebook{IpynbCell}(IpynbCell[IpynbCell(\"markdown\", [\"# BijectiveBase.jl - 对「双射基数n进制」的解析转换支持\"], Dict{String, Any}(), nothing), IpynbCell(\"markdown\", [\"## 概述\"], Dict{String, Any}(), nothing), IpynbCell(\"markdown\", [\"🎯核心功能：对「双射N进制数值」进行解析、生成\\n\", \"\\n\", \"- 与日常所谓「n进制」的区别：**没有表特殊地位的「0」位值**\\n\", \"    - 这意味着「A」与「AA」在任何n下语义都不相同\\n\", \"- 有「数组」「字符串」两种形式可选\"], Dict{String, Any}(), nothing), IpynbCell(\"markdown\", [\"## 对照表\"], Dict{String, Any}(), nothing), IpynbCell(\"markdown\", [\"部分二进制数的对应关系表如下：\\n\", \"\\n\", \"| 原 | BIN | Bijective BIN | 权值显示 |\\n\", \"| ---: | ---: | ---: | ---: |\\n\", \"| 0 | 0 |  |  |\\n\", \"| 1 | 1 | 0 | 1 |\\n\", \"| 2 | 10 | 1 | 2 |\\n\", \"| 3 | 11 | 00 | 21 |\\n\", \"| 4 | 100 | 01 | 22 |\\n\", \"| 5 | 101 | 10 | 41 |\\n\"  …  \"| 9 | 1001 | 010 | 441 |\\n\", \"| 10 | 1010 | 011 | 442 |\\n\", \"| 11 | 1011 | 100 | 821 |\\n\", \"| 12 | 1100 | 101 | 822 |\\n\", \"| 13 | 1101 | 110 | 841 |\\n\", \"| 14 | 1110 | 111 | 842 |\\n\", \"| 15 | 1111 | 0000 | 8421 |\\n\", \"| \\$\\\\vdots\\$ | \\$\\\\vdots\\$ | \\$\\\\vdots\\$ | \\$\\\\vdots\\$ |\\n\", \"\\n\", \"^其中**空白单元格**表示「空字符串」\"], Dict{String, Any}(), nothing), IpynbCell(\"markdown\", [\"## 使用\"], Dict{String, Any}(), nothing), IpynbCell(\"markdown\", [\"该Julia包导出了三个函数，分别为\\n\", \"\\n\", \"- `length_bijective`：计算数值在「双射进位制」下的位数\\n\", \"    - `length_bijective(x::Integer, N::Integer) -> Integer`：计算数值\\$x\\$在「双射\\$N\\$进位制」下的位数\\n\", \"    - `length_bijective(x::Integer, chars::AbstractString) -> Integer`：计算数值\\$x\\$在以`chars`为\\$N\\$进制字符集的「双射\\$N\\$进位制」下的位数\\n\", \"- `num_to_bijective`：将数值转换为双射进位制的符号串\\n\", \"    - `num_to_bijective(x::Integer, N::Integer, f::Function) -> Vector`：将数值\\$x\\$通过「符号→位值」的映射\\$f\\$转换为双射\\$N\\$进位制的符号串\\n\", \"    - `num_to_bijective(x::Integer, chars::AbstractString) -> String`：将数值\\$x\\$通过指定的「进制字符集」`chars`转换为双射进位制的字符串\\n\", \"- `bijective_to_num`：将双射进位制的数值转换为数值\\n\", \"    - `bijective_to_num(s::Vector, N::Integer, f⁻¹::Function) -> Integer`：将双射\\$N\\$进位制的符号串`s`通过「符号→位值」的逆映射\\$f^{-1}\\$转换为数值\\n\", \"    - `bijective_to_num(s::AbstractString, chars::AbstractString) -> Integer`：将双射进位制的符号串`s`通过指定的「进制字符集」`chars`转换为数值\"], Dict{String, Any}(), nothing), IpynbCell(\"markdown\", [\"## 参考\"], Dict{String, Any}(), nothing), IpynbCell(\"markdown\", [\"- 🔗[双射记数系统 - 维基百科](https://zh.wikipedia.org/wiki/%E9%9B%99%E5%B0%84%E8%A8%98%E6%95%B8)\\n\", \"- 🔗[Bijective numeration - Wikipedia](https://en.wikipedia.org/wiki/Bijective_numeration)\"], Dict{String, Any}(), nothing), IpynbCell(\"markdown\", [\"<!-- README-end -->\\n\", \"<!-- TEST-begin -->\\n\", \"## 库代码\"], Dict{String, Any}(), nothing)  …  IpynbCell(\"markdown\", [\"<!-- %ignore-cell -->\\n\", \"导入外部库\"], Dict{String, Any}(), nothing), IpynbCell(\"code\", [\"# %ignore-cell\\n\", \"using IpynbCompile\"], Dict{String, Any}(), nothing), IpynbCell(\"markdown\", [\"<!-- %ignore-cell -->\\n\", \"自身笔记本\"], Dict{String, Any}(), nothing), IpynbCell(\"code\", [\"# %ignore-cell\\n\", \"SELF_NOTEBOOK = read_notebook(SELF_PATH)\"], Dict{String, Any}(), nothing), IpynbCell(\"markdown\", [\"<!-- %ignore-cell -->\\n\", \"### 自编译生成`BijectiveBase.jl`\"], Dict{String, Any}(), nothing), IpynbCell(\"code\", [\"# %ignore-cell # * 直接将自身笔记本编译到JL路径\\n\", \"compile_notebook(SELF_NOTEBOOK, SELF_PATH_JL)\"], Dict{String, Any}(), nothing), IpynbCell(\"markdown\", [\"<!-- %ignore-cell -->\\n\", \"### 编译生成测试文件`runtests.jl`\\n\", \"\\n\", \"🔗Copy from `IpynbCompile.ipynb`\"], Dict{String, Any}(), nothing), IpynbCell(\"code\", [\"# %ignore-cell\\n\", \"let 测试の始の标签 = \\\"<!-- TEST-begin\\\",\\n\", \"    测试の终の标签 = \\\"<!-- TEST-end\\\"\\n\", \"    \\n\", \"    # 获取测试代码的框定范围 # ! 不包括加了标签的两个单元格\\n\", \"    测试の索引(标签, findF, default=nothing) = something(\\n\", \"        findF(SELF_NOTEBOOK.cells) do cell\\n\", \"            # * 单元格内任意一行以标签开始，就算\\n\", \"            any(startswith(line, 标签) for line in cell.source)\\n\", \"        end,\\n\"  …  \"    \\n\", \"    end\\n\", \"    \\\"\\\"\\\"\\n\", \"    # 最终写入\\n\", \"    write_bytes = write(TEST_PATH, code_tests)\\n\", \"    printstyled(\\n\", \"        \\\"✅测试文件编译成功！\\\\n（共写入 \\$write_bytes 个字节）\\\\n\\\";\\n\", \"        color=:light_green, bold=true\\n\", \"    )\\n\", \"end\"], Dict{String, Any}(), nothing), IpynbCell(\"markdown\", [\"<!-- %ignore-cell -->\\n\", \"### 编译生成自述文件`README.md`\\n\", \"\\n\", \"🔗Copy from `IpynbCompile.ipynb`\"], Dict{String, Any}(), nothing), IpynbCell(\"code\", [\"# %ignore-cell # * 扫描自身Markdown单元格，自动生成`README.md`\\n\", \"\\\"决定「单元格采集结束」的标识\\\"\\n\", \"FLAG_END = \\\"<!-- README-end\\\"\\n\", \"FLAG_IGNORE = \\\"<!-- %ignore-cell\\\" # !【2024-01-30 15:03:43】现在统一语法\\n\", \"\\n\", \"# * 过滤Markdown单元格\\n\", \"markdowns = filter(SELF_NOTEBOOK.cells) do cell\\n\", \"    cell.cell_type == \\\"markdown\\\"\\n\", \"end\\n\", \"# * 截取Markdown单元格 | 直到开头有`FLAG_END`标记的行（不考虑换行符）\\n\"  …  \"), '\\\\n')\\n\", \"using Dates: now # * 增加日期注释（不会在正文显示）\\n\", \"README_markdown_TEXT = \\\"\\\"\\\"\\\\\\n\", \"<!-- ⚠️该文件由 `\\$SELF_FILE` 自动生成于 \\$(now())，无需手动修改 -->\\n\", \"\\$README_markdown_TEXT\\\\\\n\", \"\\\"\\\"\\\"\\n\", \"print(README_markdown_TEXT)\\n\", \"\\n\", \"README_FILE = \\\"README.md\\\"\\n\", \"write(joinpath(ROOT_PATH, README_FILE), README_markdown_TEXT)\"], Dict{String, Any}(), nothing)], IpynbNotebookMetadata(Dict{String, Any}(\"file_extension\" => \".jl\", \"mimetype\" => \"application/julia\", \"name\" => \"julia\", \"version\" => \"1.10.0\"), Dict{String, Any}(\"name\" => \"julia-1.10\", \"display_name\" => \"Julia 1.10.0\", \"language\" => \"julia\")), 4, 2)"
      ]
     },
     "execution_count": 45,
     "metadata": {},
     "output_type": "execute_result"
    }
   ],
   "source": [
    "# %ignore-cell\n",
    "SELF_NOTEBOOK = read_notebook(SELF_PATH)"
   ]
  },
  {
   "cell_type": "markdown",
   "metadata": {},
   "source": [
    "<!-- %ignore-cell -->\n",
    "### 自编译生成`BijectiveBase.jl`"
   ]
  },
  {
   "cell_type": "code",
   "execution_count": 46,
   "metadata": {},
   "outputs": [
    {
     "data": {
      "text/plain": [
       "8944"
      ]
     },
     "execution_count": 46,
     "metadata": {},
     "output_type": "execute_result"
    }
   ],
   "source": [
    "# %ignore-cell # * 直接将自身笔记本编译到JL路径\n",
    "compile_notebook(SELF_NOTEBOOK, SELF_PATH_JL)"
   ]
  },
  {
   "cell_type": "markdown",
   "metadata": {},
   "source": [
    "<!-- %ignore-cell -->\n",
    "### 编译生成测试文件`runtests.jl`\n",
    "\n",
    "🔗Copy from `IpynbCompile.ipynb`"
   ]
  },
  {
   "cell_type": "code",
   "execution_count": 47,
   "metadata": {},
   "outputs": [
    {
     "name": "stdout",
     "output_type": "stream",
     "text": [
      "\u001b[92m\u001b[1m✅测试文件编译成功！\u001b[22m\u001b[39m\n",
      "\u001b[92m\u001b[1m（共写入 8809 个字节）\u001b[22m\u001b[39m\n"
     ]
    }
   ],
   "source": [
    "# %ignore-cell\n",
    "let 测试の始の标签 = \"<!-- TEST-begin\",\n",
    "    测试の终の标签 = \"<!-- TEST-end\"\n",
    "    \n",
    "    # 获取测试代码的框定范围 # ! 不包括加了标签的两个单元格\n",
    "    测试の索引(标签, findF, default=nothing) = something(\n",
    "        findF(SELF_NOTEBOOK.cells) do cell\n",
    "            # * 单元格内任意一行以标签开始，就算\n",
    "            any(startswith(line, 标签) for line in cell.source)\n",
    "        end,\n",
    "        default\n",
    "    )\n",
    "    测试の始の索引 = 测试の索引(测试の始の标签, findfirst, firstindex(SELF_NOTEBOOK.cells))\n",
    "    测试の终の索引 = 测试の索引(测试の终の标签, findlast, lastindex(SELF_NOTEBOOK.cells))\n",
    "    测试の单元格の组 = SELF_NOTEBOOK.cells[(测试の始の索引+1):(测试の终の索引-1)]\n",
    "\n",
    "    # 拼接所有代码单元格\n",
    "    code_tests = join((\n",
    "        join(cell.source)\n",
    "        for cell in 测试の单元格の组\n",
    "        if cell.cell_type == \"code\"\n",
    "    ), \"\\n\\n\")\n",
    "    # 开头使用Test库，并添加测试上下文\n",
    "    code_tests = \"\"\"\\\n",
    "    # 【附加】使用测试代码\n",
    "    using Test\n",
    "\n",
    "    @testset \"main\" begin\n",
    "    \"\"\" * code_tests\n",
    "    # 替换所有的`@assert`为`@test`\n",
    "    code_tests = replace(code_tests, \"@assert\" => \"@test\")\n",
    "    # 避免 syntax: malformed \"export\" statement\n",
    "    code_tests = replace(code_tests, r\"[ \\t\\v]*export [^\\n]*\" => \"\\n#= export导出已忽略 =#\")\n",
    "    # 注释掉所有的`write`写入代码（单行）\n",
    "    code_tests = replace(\n",
    "        code_tests, \n",
    "        # * 📝Julia中的「捕获-映射」替换：传入一个函数✅\n",
    "        r\"\\n *write\\(([^\\n]+)\\)(?:\\n|$)\" => \"\\n#= 文件读写已忽略 =#\\n\"\n",
    "    )\n",
    "    # 关闭测试上下文\n",
    "    code_tests *= \"\"\"\n",
    "    \n",
    "    end\n",
    "    \"\"\"\n",
    "    # 最终写入\n",
    "    write_bytes = write(TEST_PATH, code_tests)\n",
    "    printstyled(\n",
    "        \"✅测试文件编译成功！\\n（共写入 $write_bytes 个字节）\\n\";\n",
    "        color=:light_green, bold=true\n",
    "    )\n",
    "end"
   ]
  },
  {
   "cell_type": "markdown",
   "metadata": {},
   "source": [
    "<!-- %ignore-cell -->\n",
    "### 编译生成自述文件`README.md`\n",
    "\n",
    "🔗Copy from `IpynbCompile.ipynb`"
   ]
  },
  {
   "cell_type": "code",
   "execution_count": 48,
   "metadata": {},
   "outputs": [
    {
     "name": "stdout",
     "output_type": "stream",
     "text": [
      "<!-- ⚠️该文件由 `BijectiveBase.ipynb` 自动生成于 2024-01-31T15:34:08.485，无需手动修改 -->\n",
      "# BijectiveBase.jl - 对「双射基数n进制」的解析转换支持\n",
      "\n",
      "## 概述\n",
      "\n",
      "🎯核心功能：对「双射N进制数值」进行解析、生成\n",
      "\n",
      "- 与日常所谓「n进制」的区别：**没有表特殊地位的「0」位值**\n",
      "  - 这意味着「A」与「AA」在任何n下语义都不相同\n",
      "- 有「数组」「字符串」两种形式可选\n",
      "\n",
      "## 对照表\n",
      "\n",
      "部分二进制数的对应关系表如下：\n",
      "\n",
      "| 原 | BIN | Bijective BIN | 权值显示 |\n",
      "| ---: | ---: | ---: | ---: |\n",
      "| 0 | 0 |  |  |\n",
      "| 1 | 1 | 0 | 1 |\n",
      "| 2 | 10 | 1 | 2 |\n",
      "| 3 | 11 | 00 | 21 |\n",
      "| 4 | 100 | 01 | 22 |\n",
      "| 5 | 101 | 10 | 41 |\n",
      "| 6 | 110 | 11 | 42 |\n",
      "| 7 | 111 | 000 | 421 |\n",
      "| 8 | 1000 | 001 | 422 |\n",
      "| 9 | 1001 | 010 | 441 |\n",
      "| 10 | 1010 | 011 | 442 |\n",
      "| 11 | 1011 | 100 | 821 |\n",
      "| 12 | 1100 | 101 | 822 |\n",
      "| 13 | 1101 | 110 | 841 |\n",
      "| 14 | 1110 | 111 | 842 |\n",
      "| 15 | 1111 | 0000 | 8421 |\n",
      "| $\\vdots$ | $\\vdots$ | $\\vdots$ | $\\vdots$ |\n",
      "\n",
      "^其中**空白单元格**表示「空字符串」\n",
      "\n",
      "## 使用\n",
      "\n",
      "该Julia包导出了三个函数，分别为\n",
      "\n",
      "- `length_bijective`：计算数值在「双射进位制」下的位数\n",
      "  - `length_bijective(x::Integer, N::Integer) -> Integer`：计算数值$x$在「双射$N$进位制」下的位数\n",
      "  - `length_bijective(x::Integer, chars::AbstractString) -> Integer`：计算数值$x$在以`chars`为$N$进制字符集的「双射$N$进位制」下的位数\n",
      "- `num_to_bijective`：将数值转换为双射进位制的符号串\n",
      "  - `num_to_bijective(x::Integer, N::Integer, f::Function) -> Vector`：将数值$x$通过「符号→位值」的映射$f$转换为双射$N$进位制的符号串\n",
      "  - `num_to_bijective(x::Integer, chars::AbstractString) -> String`：将数值$x$通过指定的「进制字符集」`chars`转换为双射进位制的字符串\n",
      "- `bijective_to_num`：将双射进位制的数值转换为数值\n",
      "  - `bijective_to_num(s::Vector, N::Integer, f⁻¹::Function) -> Integer`：将双射$N$进位制的符号串`s`通过「符号→位值」的逆映射$f^{-1}$转换为数值\n",
      "  - `bijective_to_num(s::AbstractString, chars::AbstractString) -> Integer`：将双射进位制的符号串`s`通过指定的「进制字符集」`chars`转换为数值\n",
      "\n",
      "## 参考\n",
      "\n",
      "- 🔗[双射记数系统 - 维基百科](https://zh.wikipedia.org/wiki/%E9%9B%99%E5%B0%84%E8%A8%98%E6%95%B8)\n",
      "- 🔗[Bijective numeration - Wikipedia](https://en.wikipedia.org/wiki/Bijective_numeration)\n"
     ]
    },
    {
     "data": {
      "text/plain": [
       "2498"
      ]
     },
     "execution_count": 48,
     "metadata": {},
     "output_type": "execute_result"
    }
   ],
   "source": [
    "# %ignore-cell # * 扫描自身Markdown单元格，自动生成`README.md`\n",
    "\"决定「单元格采集结束」的标识\"\n",
    "FLAG_END = \"<!-- README-end\"\n",
    "FLAG_IGNORE = \"<!-- %ignore-cell\" # !【2024-01-30 15:03:43】现在统一语法\n",
    "\n",
    "# * 过滤Markdown单元格\n",
    "markdowns = filter(SELF_NOTEBOOK.cells) do cell\n",
    "    cell.cell_type == \"markdown\"\n",
    "end\n",
    "# * 截取Markdown单元格 | 直到开头有`FLAG_END`标记的行（不考虑换行符）\n",
    "README_END_INDEX = findlast(markdowns) do cell\n",
    "    !isempty(cell.source) && startswith(cell.source[begin], FLAG_END)\n",
    "end\n",
    "README_markdowns = markdowns[begin:README_END_INDEX-1]\n",
    "\n",
    "# * 提取Markdown代码，聚合生成原始文档\n",
    "README_markdown_TEXT = join((\n",
    "    join(cell.source) * '\\n' # ←这里需要加上换行\n",
    "    for cell in README_markdowns\n",
    "    # 根据【空单元格】或【首行注释】进行忽略\n",
    "    if !(isempty(cell.source) || startswith(cell.source[begin], FLAG_IGNORE))\n",
    "), '\\n')\n",
    "\n",
    "# * 继续处理：缩进4→2，附加注释\n",
    "README_markdown_TEXT = join((\n",
    "    begin\n",
    "        local space_stripped_line = lstrip(line, ' ')\n",
    "        local head_space_length = length(line) - length(space_stripped_line)\n",
    "        # 缩进缩减到原先的一半\n",
    "        ' '^(head_space_length ÷ 2) * space_stripped_line\n",
    "    end\n",
    "    for line in split(README_markdown_TEXT, '\\n')\n",
    "), '\\n')\n",
    "using Dates: now # * 增加日期注释（不会在正文显示）\n",
    "README_markdown_TEXT = \"\"\"\\\n",
    "<!-- ⚠️该文件由 `$SELF_FILE` 自动生成于 $(now())，无需手动修改 -->\n",
    "$README_markdown_TEXT\\\n",
    "\"\"\"\n",
    "print(README_markdown_TEXT)\n",
    "\n",
    "README_FILE = \"README.md\"\n",
    "write(joinpath(ROOT_PATH, README_FILE), README_markdown_TEXT)"
   ]
  }
 ],
 "metadata": {
  "kernelspec": {
   "display_name": "Julia 1.10.0",
   "language": "julia",
   "name": "julia-1.10"
  },
  "language_info": {
   "file_extension": ".jl",
   "mimetype": "application/julia",
   "name": "julia",
   "version": "1.10.0"
  }
 },
 "nbformat": 4,
 "nbformat_minor": 2
}
